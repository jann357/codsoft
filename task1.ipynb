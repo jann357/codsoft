{
  "metadata": {
    "kernelspec": {
      "name": "python",
      "display_name": "Python (Pyodide)",
      "language": "python"
    },
    "language_info": {
      "codemirror_mode": {
        "name": "python",
        "version": 3
      },
      "file_extension": ".py",
      "mimetype": "text/x-python",
      "name": "python",
      "nbconvert_exporter": "python",
      "pygments_lexer": "ipython3",
      "version": "3.8"
    }
  },
  "nbformat_minor": 4,
  "nbformat": 4,
  "cells": [
    {
      "cell_type": "markdown",
      "source": "imported the necsessary packaages",
      "metadata": {}
    },
    {
      "cell_type": "code",
      "source": "import numpy as np\nfrom matplotlib import pyplot as plt\nimport pandas as pd\n%pip install seaborn\nimport seaborn as sns\n",
      "metadata": {
        "trusted": true
      },
      "outputs": [],
      "execution_count": 6
    },
    {
      "cell_type": "markdown",
      "source": "reading from the imported data sets",
      "metadata": {}
    },
    {
      "cell_type": "code",
      "source": "training=pd.read_csv(\"train.csv\")\ntesting=pd.read_csv(\"test.csv\")",
      "metadata": {
        "trusted": true
      },
      "outputs": [],
      "execution_count": 7
    },
    {
      "cell_type": "markdown",
      "source": "basic functions to understand the data sets given",
      "metadata": {}
    },
    {
      "cell_type": "code",
      "source": "training.head()",
      "metadata": {
        "trusted": true
      },
      "outputs": [],
      "execution_count": null
    },
    {
      "cell_type": "code",
      "source": "training.info()",
      "metadata": {
        "trusted": true
      },
      "outputs": [
        {
          "name": "stdout",
          "text": "<class 'pandas.core.frame.DataFrame'>\nRangeIndex: 891 entries, 0 to 890\nData columns (total 13 columns):\n #   Column       Non-Null Count  Dtype  \n---  ------       --------------  -----  \n 0   PassengerId  891 non-null    int64  \n 1   Survived     891 non-null    int64  \n 2   Pclass       891 non-null    int64  \n 3   Name         891 non-null    object \n 4   Sex          891 non-null    object \n 5   Age          714 non-null    float64\n 6   SibSp        891 non-null    int64  \n 7   Parch        891 non-null    int64  \n 8   Ticket       891 non-null    object \n 9   Fare         891 non-null    float64\n 10  Cabin        204 non-null    object \n 11  Embarked     889 non-null    object \n 12  train_test   891 non-null    int64  \ndtypes: float64(2), int64(6), object(5)\nmemory usage: 73.2+ KB\n",
          "output_type": "stream"
        }
      ],
      "execution_count": 25
    },
    {
      "cell_type": "code",
      "source": "testing.head()",
      "metadata": {
        "trusted": true
      },
      "outputs": [
        {
          "execution_count": 20,
          "output_type": "execute_result",
          "data": {
            "text/plain": "   PassengerId  Pclass                                          Name     Sex  \\\n0          892       3                              Kelly, Mr. James    male   \n1          893       3              Wilkes, Mrs. James (Ellen Needs)  female   \n2          894       2                     Myles, Mr. Thomas Francis    male   \n3          895       3                              Wirz, Mr. Albert    male   \n4          896       3  Hirvonen, Mrs. Alexander (Helga E Lindqvist)  female   \n\n    Age  SibSp  Parch   Ticket     Fare Cabin Embarked  \n0  34.5      0      0   330911   7.8292   NaN        Q  \n1  47.0      1      0   363272   7.0000   NaN        S  \n2  62.0      0      0   240276   9.6875   NaN        Q  \n3  27.0      0      0   315154   8.6625   NaN        S  \n4  22.0      1      1  3101298  12.2875   NaN        S  ",
            "text/html": "<div>\n<style scoped>\n    .dataframe tbody tr th:only-of-type {\n        vertical-align: middle;\n    }\n\n    .dataframe tbody tr th {\n        vertical-align: top;\n    }\n\n    .dataframe thead th {\n        text-align: right;\n    }\n</style>\n<table border=\"1\" class=\"dataframe\">\n  <thead>\n    <tr style=\"text-align: right;\">\n      <th></th>\n      <th>PassengerId</th>\n      <th>Pclass</th>\n      <th>Name</th>\n      <th>Sex</th>\n      <th>Age</th>\n      <th>SibSp</th>\n      <th>Parch</th>\n      <th>Ticket</th>\n      <th>Fare</th>\n      <th>Cabin</th>\n      <th>Embarked</th>\n    </tr>\n  </thead>\n  <tbody>\n    <tr>\n      <th>0</th>\n      <td>892</td>\n      <td>3</td>\n      <td>Kelly, Mr. James</td>\n      <td>male</td>\n      <td>34.5</td>\n      <td>0</td>\n      <td>0</td>\n      <td>330911</td>\n      <td>7.8292</td>\n      <td>NaN</td>\n      <td>Q</td>\n    </tr>\n    <tr>\n      <th>1</th>\n      <td>893</td>\n      <td>3</td>\n      <td>Wilkes, Mrs. James (Ellen Needs)</td>\n      <td>female</td>\n      <td>47.0</td>\n      <td>1</td>\n      <td>0</td>\n      <td>363272</td>\n      <td>7.0000</td>\n      <td>NaN</td>\n      <td>S</td>\n    </tr>\n    <tr>\n      <th>2</th>\n      <td>894</td>\n      <td>2</td>\n      <td>Myles, Mr. Thomas Francis</td>\n      <td>male</td>\n      <td>62.0</td>\n      <td>0</td>\n      <td>0</td>\n      <td>240276</td>\n      <td>9.6875</td>\n      <td>NaN</td>\n      <td>Q</td>\n    </tr>\n    <tr>\n      <th>3</th>\n      <td>895</td>\n      <td>3</td>\n      <td>Wirz, Mr. Albert</td>\n      <td>male</td>\n      <td>27.0</td>\n      <td>0</td>\n      <td>0</td>\n      <td>315154</td>\n      <td>8.6625</td>\n      <td>NaN</td>\n      <td>S</td>\n    </tr>\n    <tr>\n      <th>4</th>\n      <td>896</td>\n      <td>3</td>\n      <td>Hirvonen, Mrs. Alexander (Helga E Lindqvist)</td>\n      <td>female</td>\n      <td>22.0</td>\n      <td>1</td>\n      <td>1</td>\n      <td>3101298</td>\n      <td>12.2875</td>\n      <td>NaN</td>\n      <td>S</td>\n    </tr>\n  </tbody>\n</table>\n</div>"
          },
          "metadata": {}
        }
      ],
      "execution_count": 20
    },
    {
      "cell_type": "code",
      "source": "training['Survived'].value_counts()",
      "metadata": {
        "trusted": true
      },
      "outputs": [
        {
          "execution_count": 8,
          "output_type": "execute_result",
          "data": {
            "text/plain": "0    549\n1    342\nName: Survived, dtype: int64"
          },
          "metadata": {}
        }
      ],
      "execution_count": 8
    },
    {
      "cell_type": "markdown",
      "source": "1.understand the nature of the data using .info() and .describe()\n2.histographs and boxplots to analyse the trends\n3.values counts\n4.missing data hepls decising wheter to remove or keep these\n5.check corelation b/w metrices to look which things are related\n6.explore intresting themes\n7.featured engineering\n8.processin the  data or tranform?\n",
      "metadata": {}
    },
    {
      "cell_type": "code",
      "source": "training[\"train_test\"]=1\ntesting[\"train_test\"]=0\ntesting[\"Survived\"]=np.NaN\nall_data=pd.concat([training,testing])\n%matplotlib inline #can print column names of both data sets\nall_data.columns\n\n",
      "metadata": {
        "trusted": true
      },
      "outputs": [
        {
          "name": "stderr",
          "text": "UsageError: unrecognized arguments: #can print column names of both data sets\n",
          "output_type": "stream"
        }
      ],
      "execution_count": 10
    },
    {
      "cell_type": "code",
      "source": "training.describe().columns         #helps with bettee understanding of numeric value columns",
      "metadata": {
        "trusted": true
      },
      "outputs": [
        {
          "execution_count": 12,
          "output_type": "execute_result",
          "data": {
            "text/plain": "Index(['PassengerId', 'Survived', 'Pclass', 'Age', 'SibSp', 'Parch', 'Fare',\n       'train_test'],\n      dtype='object')"
          },
          "metadata": {}
        }
      ],
      "execution_count": 12
    },
    {
      "cell_type": "code",
      "source": "#for plotting num values and categorials separately\nd_num=training[[\"Age\",\"SibSp\",\"Parch\",\"Fare\"]]\nd_cate=training[[\"Survived\",\"Pclass\",\"Sex\",\"Ticket\",\"Cabin\",\"Embarked\"]]",
      "metadata": {
        "trusted": true
      },
      "outputs": [],
      "execution_count": 11
    },
    {
      "cell_type": "code",
      "source": "for i in d_num.columns:\n    plt.hist(d_num[i])\n    plt.title(i)\n    plt.show()",
      "metadata": {
        "trusted": true
      },
      "outputs": [
        {
          "output_type": "display_data",
          "data": {
            "text/plain": "<Figure size 640x480 with 1 Axes>",
            "image/png": "[encoded data removed]"
          },
          "metadata": {}
        },
        {
          "output_type": "display_data",
          "data": {
            "text/plain": "<Figure size 640x480 with 1 Axes>",
            "image/png": "[encoded data removed]"
          },
          "metadata": {}
        },
        {
          "output_type": "display_data",
          "data": {
            "text/plain": "<Figure size 640x480 with 1 Axes>",
            "image/png": "[encoded data removed]"
          },
          "metadata": {}
        },
        {
          "output_type": "display_data",
          "data": {
            "text/plain": "<Figure size 640x480 with 1 Axes>",
            "image/png": "[encoded data removed]"
          },
          "metadata": {}
        }
      ],
      "execution_count": 33
    },
    {
      "cell_type": "code",
      "source": "print(d_num.corr())\nsns.heatmap(d_num.corr())",
      "metadata": {
        "trusted": true
      },
      "outputs": [
        {
          "name": "stdout",
          "text": "            Age     SibSp     Parch      Fare\nAge    1.000000 -0.308247 -0.189119  0.096067\nSibSp -0.308247  1.000000  0.414838  0.159651\nParch -0.189119  0.414838  1.000000  0.216225\nFare   0.096067  0.159651  0.216225  1.000000\n",
          "output_type": "stream"
        },
        {
          "execution_count": 44,
          "output_type": "execute_result",
          "data": {
            "text/plain": "<AxesSubplot:>"
          },
          "metadata": {}
        },
        {
          "output_type": "display_data",
          "data": {
            "text/plain": "<Figure size 640x480 with 2 Axes>",
            "image/png": "[encoded data removed]"
          },
          "metadata": {}
        }
      ],
      "execution_count": 44
    },
    {
      "cell_type": "code",
      "source": "pd.pivot_table(training,index=\"Survived\",values=[\"Age\",\"SibSp\",\"Parch\",\"Fare\"])",
      "metadata": {
        "trusted": true
      },
      "outputs": [
        {
          "execution_count": 46,
          "output_type": "execute_result",
          "data": {
            "text/plain": "                Age       Fare     Parch     SibSp\nSurvived                                          \n0         30.626179  22.117887  0.329690  0.553734\n1         28.343690  48.395408  0.464912  0.473684",
            "text/html": "<div>\n<style scoped>\n    .dataframe tbody tr th:only-of-type {\n        vertical-align: middle;\n    }\n\n    .dataframe tbody tr th {\n        vertical-align: top;\n    }\n\n    .dataframe thead th {\n        text-align: right;\n    }\n</style>\n<table border=\"1\" class=\"dataframe\">\n  <thead>\n    <tr style=\"text-align: right;\">\n      <th></th>\n      <th>Age</th>\n      <th>Fare</th>\n      <th>Parch</th>\n      <th>SibSp</th>\n    </tr>\n    <tr>\n      <th>Survived</th>\n      <th></th>\n      <th></th>\n      <th></th>\n      <th></th>\n    </tr>\n  </thead>\n  <tbody>\n    <tr>\n      <th>0</th>\n      <td>30.626179</td>\n      <td>22.117887</td>\n      <td>0.329690</td>\n      <td>0.553734</td>\n    </tr>\n    <tr>\n      <th>1</th>\n      <td>28.343690</td>\n      <td>48.395408</td>\n      <td>0.464912</td>\n      <td>0.473684</td>\n    </tr>\n  </tbody>\n</table>\n</div>"
          },
          "metadata": {}
        }
      ],
      "execution_count": 46
    },
    {
      "cell_type": "code",
      "source": "for i in d_cate.columns:\n    sns.barplot(d_cate[i].value_counts().index, d_cate[i].value_counts()).set_title(i)\n    plt.show()",
      "metadata": {
        "trusted": true
      },
      "outputs": [],
      "execution_count": 15
    },
    {
      "cell_type": "code",
      "source": "print(pd.pivot_table(training,index=\"Survived\",columns=\"Pclass\",values=\"Ticket\",aggfunc=\"count\"))",
      "metadata": {
        "trusted": true
      },
      "outputs": [
        {
          "name": "stdout",
          "text": "Pclass      1   2    3\nSurvived              \n0          80  97  372\n1         136  87  119\n",
          "output_type": "stream"
        }
      ],
      "execution_count": 85
    },
    {
      "cell_type": "code",
      "source": "print(pd.pivot_table(training,index=\"Survived\",columns=\"Sex\",values=\"Ticket\",aggfunc=\"count\"))",
      "metadata": {
        "trusted": true
      },
      "outputs": [
        {
          "name": "stdout",
          "text": "Sex       female  male\nSurvived              \n0             81   468\n1            233   109\n",
          "output_type": "stream"
        }
      ],
      "execution_count": 86
    },
    {
      "cell_type": "code",
      "source": "print(pd.pivot_table(training,index=\"Survived\",columns=\"Embarked\",values=\"Ticket\",aggfunc=\"count\"))",
      "metadata": {
        "trusted": true
      },
      "outputs": [
        {
          "name": "stdout",
          "text": "Embarked   C   Q    S\nSurvived             \n0         75  47  427\n1         93  30  217\n",
          "output_type": "stream"
        }
      ],
      "execution_count": 88
    },
    {
      "cell_type": "code",
      "source": "d_cate.Cabin \ntraining[\"cabin_multiple\"]=training.Cabin.apply(lambda x: 0 if pd.isna(x) else len(x.split(\" \")))\ntraining[\"cabin_multiple\"].value_counts()",
      "metadata": {
        "trusted": true
      },
      "outputs": [
        {
          "execution_count": 20,
          "output_type": "execute_result",
          "data": {
            "text/plain": "0    687\n1    180\n2     16\n3      6\n4      2\nName: cabin_multiple, dtype: int64"
          },
          "metadata": {}
        }
      ],
      "execution_count": 20
    },
    {
      "cell_type": "code",
      "source": "pd.pivot_table(training,index=\"Survived\",columns=\"cabin_multiple\",values=\"Ticket\",aggfunc=\"count\")",
      "metadata": {
        "trusted": true
      },
      "outputs": [
        {
          "execution_count": 22,
          "output_type": "execute_result",
          "data": {
            "text/plain": "cabin_multiple      0      1    2    3    4\nSurvived                                   \n0               481.0   58.0  7.0  3.0  NaN\n1               206.0  122.0  9.0  3.0  2.0",
            "text/html": "<div>\n<style scoped>\n    .dataframe tbody tr th:only-of-type {\n        vertical-align: middle;\n    }\n\n    .dataframe tbody tr th {\n        vertical-align: top;\n    }\n\n    .dataframe thead th {\n        text-align: right;\n    }\n</style>\n<table border=\"1\" class=\"dataframe\">\n  <thead>\n    <tr style=\"text-align: right;\">\n      <th>cabin_multiple</th>\n      <th>0</th>\n      <th>1</th>\n      <th>2</th>\n      <th>3</th>\n      <th>4</th>\n    </tr>\n    <tr>\n      <th>Survived</th>\n      <th></th>\n      <th></th>\n      <th></th>\n      <th></th>\n      <th></th>\n    </tr>\n  </thead>\n  <tbody>\n    <tr>\n      <th>0</th>\n      <td>481.0</td>\n      <td>58.0</td>\n      <td>7.0</td>\n      <td>3.0</td>\n      <td>NaN</td>\n    </tr>\n    <tr>\n      <th>1</th>\n      <td>206.0</td>\n      <td>122.0</td>\n      <td>9.0</td>\n      <td>3.0</td>\n      <td>2.0</td>\n    </tr>\n  </tbody>\n</table>\n</div>"
          },
          "metadata": {}
        }
      ],
      "execution_count": 22
    },
    {
      "cell_type": "code",
      "source": "#creating categories bades on cabin letters\ntraining[\"cabin_adv\"]=training.Cabin.apply(lambda x: str(x)[0])",
      "metadata": {
        "trusted": true
      },
      "outputs": [],
      "execution_count": 24
    },
    {
      "cell_type": "code",
      "source": "print(training.cabin_adv.value_counts())\npd.pivot_table(training,index=\"Survived\",columns=\"cabin_adv\",values=\"Name\",aggfunc=\"count\")",
      "metadata": {
        "trusted": true
      },
      "outputs": [
        {
          "name": "stdout",
          "text": "n    687\nC     59\nB     47\nD     33\nE     32\nA     15\nF     13\nG      4\nT      1\nName: cabin_adv, dtype: int64\n",
          "output_type": "stream"
        },
        {
          "execution_count": 29,
          "output_type": "execute_result",
          "data": {
            "text/plain": "cabin_adv    A     B     C     D     E    F    G    T      n\nSurvived                                                    \n0          8.0  12.0  24.0   8.0   8.0  5.0  2.0  1.0  481.0\n1          7.0  35.0  35.0  25.0  24.0  8.0  2.0  NaN  206.0",
            "text/html": "<div>\n<style scoped>\n    .dataframe tbody tr th:only-of-type {\n        vertical-align: middle;\n    }\n\n    .dataframe tbody tr th {\n        vertical-align: top;\n    }\n\n    .dataframe thead th {\n        text-align: right;\n    }\n</style>\n<table border=\"1\" class=\"dataframe\">\n  <thead>\n    <tr style=\"text-align: right;\">\n      <th>cabin_adv</th>\n      <th>A</th>\n      <th>B</th>\n      <th>C</th>\n      <th>D</th>\n      <th>E</th>\n      <th>F</th>\n      <th>G</th>\n      <th>T</th>\n      <th>n</th>\n    </tr>\n    <tr>\n      <th>Survived</th>\n      <th></th>\n      <th></th>\n      <th></th>\n      <th></th>\n      <th></th>\n      <th></th>\n      <th></th>\n      <th></th>\n      <th></th>\n    </tr>\n  </thead>\n  <tbody>\n    <tr>\n      <th>0</th>\n      <td>8.0</td>\n      <td>12.0</td>\n      <td>24.0</td>\n      <td>8.0</td>\n      <td>8.0</td>\n      <td>5.0</td>\n      <td>2.0</td>\n      <td>1.0</td>\n      <td>481.0</td>\n    </tr>\n    <tr>\n      <th>1</th>\n      <td>7.0</td>\n      <td>35.0</td>\n      <td>35.0</td>\n      <td>25.0</td>\n      <td>24.0</td>\n      <td>8.0</td>\n      <td>2.0</td>\n      <td>NaN</td>\n      <td>206.0</td>\n    </tr>\n  </tbody>\n</table>\n</div>"
          },
          "metadata": {}
        }
      ],
      "execution_count": 29
    },
    {
      "cell_type": "code",
      "source": "#understanding  ticket values (num/non num)\ntraining[\"num_tick\"]=training.Ticket.apply(lambda x: 1 if x.isnumeric() else 0)\ntraining[\"let_tick\"]=training.Ticket.apply(lambda x: \" \".join(x.split(\" \")[ :-1]).replace(\".\",\"\").replace(\"/\",\"\").lower() if len(x.split(\" \")[:-1])>0 else 0)",
      "metadata": {
        "trusted": true
      },
      "outputs": [],
      "execution_count": 42
    },
    {
      "cell_type": "code",
      "source": "pd.pivot_table(training,index=\"Survived\",columns=\"num_tick\",values=\"Ticket\",aggfunc=\"count\")",
      "metadata": {
        "trusted": true
      },
      "outputs": [
        {
          "execution_count": 43,
          "output_type": "execute_result",
          "data": {
            "text/plain": "num_tick    0    1\nSurvived          \n0         142  407\n1          88  254",
            "text/html": "<div>\n<style scoped>\n    .dataframe tbody tr th:only-of-type {\n        vertical-align: middle;\n    }\n\n    .dataframe tbody tr th {\n        vertical-align: top;\n    }\n\n    .dataframe thead th {\n        text-align: right;\n    }\n</style>\n<table border=\"1\" class=\"dataframe\">\n  <thead>\n    <tr style=\"text-align: right;\">\n      <th>num_tick</th>\n      <th>0</th>\n      <th>1</th>\n    </tr>\n    <tr>\n      <th>Survived</th>\n      <th></th>\n      <th></th>\n    </tr>\n  </thead>\n  <tbody>\n    <tr>\n      <th>0</th>\n      <td>142</td>\n      <td>407</td>\n    </tr>\n    <tr>\n      <th>1</th>\n      <td>88</td>\n      <td>254</td>\n    </tr>\n  </tbody>\n</table>\n</div>"
          },
          "metadata": {}
        }
      ],
      "execution_count": 43
    },
    {
      "cell_type": "code",
      "source": "pd.pivot_table(training,index=\"Survived\",columns=\"let_tick\",values=\"Ticket\",aggfunc=\"count\")",
      "metadata": {
        "trusted": true
      },
      "outputs": [
        {
          "execution_count": 64,
          "output_type": "execute_result",
          "data": {
            "text/plain": "let_tick      0   a4    a5   as    c    ca  casoton   fa   fc  fcc  ...  sop  \\\nSurvived                                                            ...        \n0         410.0  7.0  19.0  1.0  3.0  27.0      1.0  1.0  1.0  1.0  ...  1.0   \n1         255.0  NaN   2.0  NaN  2.0  14.0      NaN  NaN  NaN  4.0  ...  NaN   \n\nlet_tick  sopp  sotono2  sotonoq   sp  stono 2  stono2  swpp   wc  wep  \nSurvived                                                                \n0          3.0      2.0     13.0  1.0      7.0     3.0   NaN  9.0  2.0  \n1          NaN      NaN      2.0  NaN      5.0     3.0   2.0  1.0  1.0  \n\n[2 rows x 30 columns]",
            "text/html": "<div>\n<style scoped>\n    .dataframe tbody tr th:only-of-type {\n        vertical-align: middle;\n    }\n\n    .dataframe tbody tr th {\n        vertical-align: top;\n    }\n\n    .dataframe thead th {\n        text-align: right;\n    }\n</style>\n<table border=\"1\" class=\"dataframe\">\n  <thead>\n    <tr style=\"text-align: right;\">\n      <th>let_tick</th>\n      <th>0</th>\n      <th>a4</th>\n      <th>a5</th>\n      <th>as</th>\n      <th>c</th>\n      <th>ca</th>\n      <th>casoton</th>\n      <th>fa</th>\n      <th>fc</th>\n      <th>fcc</th>\n      <th>...</th>\n      <th>sop</th>\n      <th>sopp</th>\n      <th>sotono2</th>\n      <th>sotonoq</th>\n      <th>sp</th>\n      <th>stono 2</th>\n      <th>stono2</th>\n      <th>swpp</th>\n      <th>wc</th>\n      <th>wep</th>\n    </tr>\n    <tr>\n      <th>Survived</th>\n      <th></th>\n      <th></th>\n      <th></th>\n      <th></th>\n      <th></th>\n      <th></th>\n      <th></th>\n      <th></th>\n      <th></th>\n      <th></th>\n      <th></th>\n      <th></th>\n      <th></th>\n      <th></th>\n      <th></th>\n      <th></th>\n      <th></th>\n      <th></th>\n      <th></th>\n      <th></th>\n      <th></th>\n    </tr>\n  </thead>\n  <tbody>\n    <tr>\n      <th>0</th>\n      <td>410.0</td>\n      <td>7.0</td>\n      <td>19.0</td>\n      <td>1.0</td>\n      <td>3.0</td>\n      <td>27.0</td>\n      <td>1.0</td>\n      <td>1.0</td>\n      <td>1.0</td>\n      <td>1.0</td>\n      <td>...</td>\n      <td>1.0</td>\n      <td>3.0</td>\n      <td>2.0</td>\n      <td>13.0</td>\n      <td>1.0</td>\n      <td>7.0</td>\n      <td>3.0</td>\n      <td>NaN</td>\n      <td>9.0</td>\n      <td>2.0</td>\n    </tr>\n    <tr>\n      <th>1</th>\n      <td>255.0</td>\n      <td>NaN</td>\n      <td>2.0</td>\n      <td>NaN</td>\n      <td>2.0</td>\n      <td>14.0</td>\n      <td>NaN</td>\n      <td>NaN</td>\n      <td>NaN</td>\n      <td>4.0</td>\n      <td>...</td>\n      <td>NaN</td>\n      <td>NaN</td>\n      <td>NaN</td>\n      <td>2.0</td>\n      <td>NaN</td>\n      <td>5.0</td>\n      <td>3.0</td>\n      <td>2.0</td>\n      <td>1.0</td>\n      <td>1.0</td>\n    </tr>\n  </tbody>\n</table>\n<p>2 rows × 30 columns</p>\n</div>"
          },
          "metadata": {}
        }
      ],
      "execution_count": 64
    },
    {
      "cell_type": "code",
      "source": "training[\"name_title\"]=training.Name.apply(lambda x: x.split(\",\")[1].split(\".\")[0].strip())",
      "metadata": {
        "trusted": true
      },
      "outputs": [],
      "execution_count": 65
    },
    {
      "cell_type": "code",
      "source": "",
      "metadata": {
        "trusted": true
      },
      "outputs": [],
      "execution_count": null
    },
    {
      "cell_type": "code",
      "source": "#data processing\nall_data[\"cabin_multiple\"]=all_data.Cabin.apply(lambda x: 0 if pd.isna(x) else len(x.split(\" \")))\nall_data[\"cabin_adv\"]=all_data.Cabin.apply(lambda x: str(x)[0])\nall_data[\"num_tick\"]=all_data.Ticket.apply(lambda x: 1 if x.isnumeric() else 0)\nall_data[\"let_tick\"]=all_data.Ticket.apply(lambda x: \" \".join(x.split(\" \")[ :-1]).replace(\".\",\" \").replace(\"/\",\" \").lower() if len(x.split(\" \")[ :-1] )>0 else 0)\nall_data[\"name_title\"]=all_data.Name.apply(lambda x: x.split(\",\")[1].split(\".\")[0].strip())\n\n\n#assinging null to continuous data\nall_data.Age=all_data.Age.fillna(training.Age.mean())\nall_data.Fare=all_data.Fare.fillna(training.Fare.mean())\n#all_data.dropna(subset=[\"Embarked\"].inplace=True)\nall_data[\"norm_sibsp\"]=np.log(all_data.SibSp+1)\nall_data[\"norm_sibsp\"].hist()\nall_data[\"norm_fare\"]=np.log(all_data.Fare+1)\nall_data[\"norm_fare\"].hist()\nall_data.Pclass = all_data.Pclass.astype(str)\nall_dummies=pd.get_dummies(all_data[[\"Pclass\",\"Sex\",\"Age\",\"SibSp\",\"Parch\",\"norm_fare\",\"Embarked\",\"cabin_adv\",\"cabin_multiple\",\"num_tick\",\"name_title\",\"train_test\"]])\n\nx_train=all_dummies[all_dummies.train_test==1].drop([\"train_test\"],axis=1)\nx_test=all_dummies[all_dummies.train_test==0].drop([\"train_test\"],axis=1)\ny_train=all_data[all_data.train_test==1].Survived\ny_train.shape\n",
      "metadata": {
        "trusted": true
      },
      "outputs": [
        {
          "execution_count": 83,
          "output_type": "execute_result",
          "data": {
            "text/plain": "(891,)"
          },
          "metadata": {}
        },
        {
          "output_type": "display_data",
          "data": {
            "text/plain": "<Figure size 640x480 with 1 Axes>",
            "image/png": "[encoded data removed]"
          },
          "metadata": {}
        }
      ],
      "execution_count": 83
    },
    {
      "cell_type": "code",
      "source": "#scale data\nfrom sklearn.preprocessing import StandardScaler\nscale=StandardScaler()\nall_dummies_scaled=all_dummies.copy()\nall_dummies_scaled[['Age','SibSp','Parch','norm_fare']]=scale.fit_transform(all_dummies_scaled[['Age','SibSp','Parch','norm_fare']])\nall_dummies_scaled\nx_train_scaled=all_dummies_scaled[all_dummies_scaled.train_test==1].drop(['train_test'],axis=1)\nx_test_scaled=all_dummies_scaled[all_dummies_scaled.train_test==0].drop(['train_test'],axis=1)\ny_train=all_data[all_data.train_test==1].Survived",
      "metadata": {
        "trusted": true
      },
      "outputs": [],
      "execution_count": 175
    },
    {
      "cell_type": "code",
      "source": "from sklearn.model_selection import cross_val_score\nfrom sklearn.naive_bayes import GaussianNB\nfrom sklearn.linear_model import LogisticRegression\nfrom sklearn import tree\nfrom sklearn.neighbors import KNeighborsClassifier\nfrom sklearn.ensemble import RandomForestClassifier\nfrom sklearn.svm import SVC\n",
      "metadata": {
        "trusted": true
      },
      "outputs": [],
      "execution_count": 84
    },
    {
      "cell_type": "code",
      "source": "gnb=GaussianNB()\ncv=cross_val_score(gnb,x_train_scaled,y_train,cv=5)\nprint(cv)\nprint(cv.mean())",
      "metadata": {
        "trusted": true
      },
      "outputs": [
        {
          "name": "stdout",
          "text": "[0.67039106 0.70224719 0.75842697 0.74719101 0.73033708]\n0.7217186617287051\n",
          "output_type": "stream"
        }
      ],
      "execution_count": 141
    },
    {
      "cell_type": "code",
      "source": "#lr=LogisticRegression()\n#param_grid={'max_iter':[2000],'penalty':['11','12'],\n#'C':np.logspace(-4,4,20),'solver' : ['liblinear']}\n#clf_lr=GridSearchCV(lr,param_grid=param_grid,cv=5,verbose=True,n_jobs= -1)\n#best_clf_lr=clf_lr.fit(x_train,y_train)\n#cif_performance(best_clf_lr,'Logistic Regression')\n",
      "metadata": {
        "trusted": true
      },
      "outputs": [],
      "execution_count": 134
    },
    {
      "cell_type": "code",
      "source": "lr = LogisticRegression(max_iter = 2000)\ncv = cross_val_score(lr,x_train,y_train,cv=5)\nprint(cv)\nprint(cv.mean())",
      "metadata": {
        "trusted": true
      },
      "outputs": [
        {
          "name": "stdout",
          "text": "[0.82122905 0.80898876 0.80337079 0.82022472 0.85393258]\n0.8215491808423827\n",
          "output_type": "stream"
        }
      ],
      "execution_count": 177
    },
    {
      "cell_type": "code",
      "source": "\nlr=LogisticRegression(max_iter=2000)\ncv=cross_val_score(lr,x_train_scaled,y_train,cv=5)\nprint(cv)\nprint(cv.mean())",
      "metadata": {
        "trusted": true
      },
      "outputs": [
        {
          "name": "stdout",
          "text": "[0.82122905 0.80898876 0.80337079 0.82022472 0.85393258]\n0.8215491808423827\n",
          "output_type": "stream"
        }
      ],
      "execution_count": 142
    },
    {
      "cell_type": "code",
      "source": "dt=tree.DecisionTreeClassifier(random_state=1)\ncv=cross_val_score(dt,x_train,y_train,cv=5)\nprint(cv)\nprint(cv.mean())",
      "metadata": {
        "trusted": true
      },
      "outputs": [
        {
          "name": "stdout",
          "text": "[0.74860335 0.74157303 0.80898876 0.75842697 0.8258427 ]\n0.776686962525893\n",
          "output_type": "stream"
        }
      ],
      "execution_count": 90
    },
    {
      "cell_type": "code",
      "source": "dt = tree.DecisionTreeClassifier(random_state = 1)\ncv = cross_val_score(dt,x_train_scaled,y_train,cv=5)\nprint(cv)\nprint(cv.mean())",
      "metadata": {
        "trusted": true
      },
      "outputs": [
        {
          "name": "stdout",
          "text": "[0.75418994 0.73595506 0.80898876 0.75280899 0.8258427 ]\n0.7755570899504111\n",
          "output_type": "stream"
        }
      ],
      "execution_count": 178
    },
    {
      "cell_type": "code",
      "source": "knn = KNeighborsClassifier()\ncv = cross_val_score(knn,x_train,y_train,cv=5)\nprint(cv)\nprint(cv.mean())",
      "metadata": {
        "trusted": true
      },
      "outputs": [
        {
          "name": "stdout",
          "text": "[0.77094972 0.80898876 0.80898876 0.81460674 0.8258427 ]\n0.8058753373925052\n",
          "output_type": "stream"
        }
      ],
      "execution_count": 179
    },
    {
      "cell_type": "code",
      "source": "knn=KNeighborsClassifier()\ncv=cross_val_score(knn,x_train_scaled,y_train,cv=5)\nprint(cv)\nprint(cv.mean())",
      "metadata": {
        "trusted": true
      },
      "outputs": [
        {
          "name": "stdout",
          "text": "[0.79888268 0.79213483 0.83146067 0.80337079 0.85393258]\n0.815956311593748\n",
          "output_type": "stream"
        }
      ],
      "execution_count": 143
    },
    {
      "cell_type": "code",
      "source": "rf=RandomForestClassifier(random_state=1)\ncv=cross_val_score(rf,x_train_scaled,y_train,cv=5)\nprint(cv)\nprint(cv.mean())",
      "metadata": {
        "trusted": true
      },
      "outputs": [
        {
          "name": "stdout",
          "text": "[0.81564246 0.79775281 0.85393258 0.74157303 0.8258427 ]\n0.8069487163392128\n",
          "output_type": "stream"
        }
      ],
      "execution_count": 93
    },
    {
      "cell_type": "code",
      "source": "rf = RandomForestClassifier(random_state = 1)\ncv = cross_val_score(rf,x_train,y_train,cv=5)\nprint(cv)\nprint(cv.mean())",
      "metadata": {
        "trusted": true
      },
      "outputs": [
        {
          "name": "stdout",
          "text": "[0.81564246 0.79775281 0.85393258 0.74157303 0.8258427 ]\n0.8069487163392128\n",
          "output_type": "stream"
        }
      ],
      "execution_count": 180
    },
    {
      "cell_type": "code",
      "source": "svc=SVC(probability=True)\ncv=cross_val_score(svc,x_train_scaled,y_train,cv=5)\nprint(cv)\nprint(cv.mean())",
      "metadata": {
        "trusted": true
      },
      "outputs": [
        {
          "name": "stdout",
          "text": "[0.84916201 0.82022472 0.8258427  0.80337079 0.86516854]\n0.8327537505492437\n",
          "output_type": "stream"
        }
      ],
      "execution_count": 144
    },
    {
      "cell_type": "code",
      "source": "from xgboost import XGBClassifier\nxgb=XGBClassifier(random_state=1)\ncv=cross_val_score(xgb,x_train_scaled,y_train,cv=5)\nprint(cv)\nprint(cv.mean())",
      "metadata": {
        "trusted": true
      },
      "outputs": [
        {
          "name": "stdout",
          "text": "[0.82122905 0.82022472 0.86516854 0.79213483 0.82022472]\n0.8237963718536185\n",
          "output_type": "stream"
        }
      ],
      "execution_count": 181
    },
    {
      "cell_type": "code",
      "source": "from sklearn.ensemble import VotingClassifier\nvoting_clf=VotingClassifier(estimators=[(\"lr\",lr),(\"gnb\",gnb),(\"knn\",knn),(\"rf\",rf),(\"svc\",svc),(\"xgb\",xgb)],voting = 'soft')",
      "metadata": {
        "trusted": true
      },
      "outputs": [],
      "execution_count": 184
    },
    {
      "cell_type": "code",
      "source": "cv=cross_val_score(voting_clf,x_train,y_train,cv=5)\nprint(cv)\nprint(cv.mean())",
      "metadata": {
        "trusted": true
      },
      "outputs": [
        {
          "name": "stdout",
          "text": "[0.82681564 0.82022472 0.8258427  0.8258427  0.85955056]\n0.8316552633230808\n",
          "output_type": "stream"
        }
      ],
      "execution_count": 185
    },
    {
      "cell_type": "code",
      "source": "voting_clf.fit(x_train_scaled,y_train)\ny_hat_base_vc=voting_clf.predict(x_test)\nbasic_submission={\"PassengerId\":testing.PassengerId,\"Survived\": y_hat_base_vc}\nbase_submission=pd.DataFrame(data=basic_submission)\nbase_submission.to_csv(\"base_submission.csv\",index=False)",
      "metadata": {
        "trusted": true
      },
      "outputs": [],
      "execution_count": 187
    },
    {
      "cell_type": "code",
      "source": "from sklearn.model_selection import GridSearchCV\nfrom sklearn.model_selection import RandomizedSearchCV",
      "metadata": {
        "trusted": true
      },
      "outputs": [],
      "execution_count": 117
    },
    {
      "cell_type": "code",
      "source": "def clf_performance(classifier,model_name):\n    print(model_name)\n    print('Best score:'+str(classifier.best_score_))\n    print('best parameter:'+str(classifier.best_params_))",
      "metadata": {
        "trusted": true
      },
      "outputs": [],
      "execution_count": 193
    },
    {
      "cell_type": "code",
      "source": "lr = LogisticRegression()\nparam_grid = {'max_iter' : [2000],\n              'penalty' : ['l1', 'l2'],\n              'C' : np.logspace(-4, 4, 20),\n              'solver' : ['liblinear']}\n\nclf_lr = GridSearchCV(lr, param_grid = param_grid, cv = 5, verbose = True, n_jobs = -1)\nbest_clf_lr = clf_lr.fit(x_train_scaled,y_train)\nclf_performance(best_clf_lr,'Logistic Regression')",
      "metadata": {
        "trusted": true
      },
      "outputs": [
        {
          "name": "stdout",
          "text": "Fitting 5 folds for each of 40 candidates, totalling 200 fits\nLogistic Regression\nBest score:0.8271608813006089\nbest parameter:{'C': 1.623776739188721, 'max_iter': 2000, 'penalty': 'l1', 'solver': 'liblinear'}\n",
          "output_type": "stream"
        }
      ],
      "execution_count": 194
    },
    {
      "cell_type": "code",
      "source": "svc = SVC(probability = True)\nparam_grid = tuned_parameters = [{'kernel': ['rbf'], 'gamma': [.1,.5,1,2,5,10],\n                                  'C': [.1, 1, 10, 100, 1000]},\n                                 {'kernel': ['linear'], 'C': [.1, 1, 10, 100, 1000]},\n                                 {'kernel': ['poly'], 'degree' : [2,3,4,5], 'C': [.1, 1, 10, 100, 1000]}]\nclf_svc = GridSearchCV(svc, param_grid = param_grid, cv = 5, verbose = True, n_jobs = -1)\nbest_clf_svc = clf_svc.fit(x_train_scaled,y_train)\nclf_performance(best_clf_svc,'SVC')",
      "metadata": {
        "trusted": true
      },
      "outputs": [],
      "execution_count": null
    },
    {
      "cell_type": "code",
      "source": "knn = KNeighborsClassifier()\nparam_grid = {'n_neighbors' : [3,5,7,9],\n              'weights' : ['uniform', 'distance'],\n              'algorithm' : ['auto', 'ball_tree','kd_tree'],\n              'p' : [1,2]}\nclf_knn = GridSearchCV(knn, param_grid = param_grid, cv = 5, verbose = True, n_jobs = -1)\nbest_clf_knn = clf_knn.fit(x_train_scaled,y_train)\nclf_performance(best_clf_knn,'KNN')\n",
      "metadata": {
        "trusted": true
      },
      "outputs": [
        {
          "name": "stdout",
          "text": "Fitting 5 folds for each of 48 candidates, totalling 240 fits\nKNN\nBest score:0.8294017952419811\nbest parameter:{'algorithm': 'auto', 'n_neighbors': 7, 'p': 2, 'weights': 'uniform'}\n",
          "output_type": "stream"
        }
      ],
      "execution_count": 198
    },
    {
      "cell_type": "code",
      "source": "rf=RandomForestClassifier(random_state=1)\nparam_grid={'n_estimators':[400,450,500,550],\n            'criterion':['gini','entropy'],\n            'max_depth':[15,20,25],\n            'max_features':['auto','sqrrt',10],\n            'min_samples_leaf':[2,3],\n           'min_samples_split':[2,3]}\nclf_rf=GridSearchCV(rf,param_grid=param_grid,cv=5,verbose=True,n_jobs= -1)\nbest_clf_rf=clf_rf.fit(x_train_scaled,y_train)\nclf_performance(best_rf,'Random Forest')",
      "metadata": {
        "trusted": true
      },
      "outputs": [],
      "execution_count": null
    },
    {
      "cell_type": "code",
      "source": "best_rf=best_clf_rf.best_estimator_.fit(x_train_scaled,y_train)\nfeat_importances=pd.Series(best_rf.feature_importances_,index=x_train_scaled.columns)\nfeat_importances.nlargest(20).plot(kind='barh')",
      "metadata": {
        "trusted": true
      },
      "outputs": [
        {
          "execution_count": 154,
          "output_type": "execute_result",
          "data": {
            "text/plain": "<AxesSubplot:>"
          },
          "metadata": {}
        },
        {
          "output_type": "display_data",
          "data": {
            "text/plain": "<Figure size 640x480 with 1 Axes>",
            "image/png": "[encoded data removed]"
          },
          "metadata": {}
        }
      ],
      "execution_count": 154
    },
    {
      "cell_type": "code",
      "source": "xgb = XGBClassifier(random_state = 1)\nparam_grid = {\n    'n_estimators': [450,500,550],\n    'colsample_bytree': [0.75,0.8,0.85],\n    'max_depth': [None],\n    'reg_alpha': [1],\n    'reg_lambda': [2, 5, 10],\n    'subsample': [0.55, 0.6, .65],\n    'learning_rate':[0.5],\n    'gamma':[.5,1,2],\n    'min_child_weight':[0.01],\n    'sampling_method': ['uniform']\n}\nclf_xgb = GridSearchCV(xgb, param_grid = param_grid, cv = 5, verbose = True, n_jobs = -1)\nbest_clf_xgb = clf_xgb.fit(x_train_scaled,y_train)\nclf_performance(best_clf_xgb,'XGB')",
      "metadata": {
        "trusted": true
      },
      "outputs": [],
      "execution_count": null
    },
    {
      "cell_type": "code",
      "source": "y_hat_xgb=best_clf_xgb.best_estimator_.predict(x_test_scaled)\nxgb_submission={'PassengerId':testing.PassengerId,'Survived':y_hat_xgb}\nsubmission_xgb=pd.DataFrame(data=xgb_submission)\nsubmission_xgb.to_csv('xgb_submission3.csv',index=False)",
      "metadata": {
        "trusted": true
      },
      "outputs": [],
      "execution_count": null
    },
    {
      "cell_type": "code",
      "source": "best_lr=best_clf_lr.best_estimator_\nbest_knn=best_clf_knn.best_estimator_\nbest_svc=best_clf_svc.best_estimator_\nbest_rf=best_clf_rf.best_estimator_\nbest_xgb=best_clf_xgb.best_estimator_\nvoting_clf_hard=VotingClassifier(estimators=[('knn',best_knn),('rf',best_rf),('svc',best_svc)],voting='hard')\nvoting_clf_soft=VotingClassifier(estimators=[('knn',best_knn),('rf',best_rf),('svc',best_svc)],voting='soft')\nvoting_clf_all=VotingClassifier(estimators=[('knn',best_knn),('rf',best_rf),('svc',best_svc),('lr',best_lr)],voting='soft')\nvoting_clf_xgb=VotingClassifier(estimators=[('knn',best_knn),('rf',best_rf),('svc',best_svc),('xgb',best_xgb),('lr',best_lr)],voting='soft')\n\nprint('voting_clf_hard:',cross_val_score(voting_clf_hard,x_train,y_tain,cv=5))\nprint('voting_clf_hard mean:',cross_val_score(voting_clf_hard,x_train,y_train,cv=5).mean())\nprint('voting_clf_soft:',cross_val_score(voting_clf_soft,x_train,y_train,cv=5))\nprint('voting_clf_soft mean:',cross_val_score(voting_clf_soft,x_train,y_train,cv=5).mean())\nprint('voting_clf_all:',cross_val_score(voting_clf_all,x_train,y_train,cv=5))\nprint('voting_clf_all mean :',cross_val_score(voting_clf_all,x_train,y_train,cv=5).mean())\nprint('voting_clf_xgb:',cross_val_score(voting_clf_xgb,x_train,y_train,cv=5))\nprint('voting_clf_xgb mean:',cross_val_score(voting_clf_xgb,x_train,y_train,cv=5).mean())\n",
      "metadata": {
        "trusted": true
      },
      "outputs": [],
      "execution_count": null
    },
    {
      "cell_type": "code",
      "source": "params={'weights' :[[1,1,1],[1,2,1],[1,1,2],[2,1,1],[2,2,1],[1,2,2],[2,1,2]]}\nvote_weight=GridSearchCV(voting_clf_soft,paran_grid=params,cv=5,verbose=True,n_jobs =-1)\nbest_clf_weight=vote_weight.fit(x_train_sacled,y_train)\nclf_performance(best_clf_weight,'VC Weights')\nvoting_clf_sub=best_clf_weight.best_estimator_.predict(x_test_scaled)",
      "metadata": {
        "trusted": true
      },
      "outputs": [],
      "execution_count": null
    },
    {
      "cell_type": "code",
      "source": "voting_clf_hard.fit(x_train_scaled, y_train)\nvoting_clf_soft.fit(x_train_scaled, y_train)\nvoting_clf_all.fit(x_train_scaled, y_train)\nvoting_clf_xgb.fit(x_train_scaled, y_train)\n\nbest_rf.fit(x_train_scaled, y_train)\ny_hat_vc_hard = voting_clf_hard.predict(x_test_scaled).astype(int)\ny_hat_rf = best_rf.predict(x_test_scaled).astype(int)\ny_hat_vc_soft =  voting_clf_soft.predict(x_test_scaled).astype(int)\ny_hat_vc_all = voting_clf_all.predict(x_test_scaled).astype(int)\ny_hat_vc_xgb = voting_clf_xgb.predict(x_test_scaled).astype(int)",
      "metadata": {
        "trusted": true
      },
      "outputs": [],
      "execution_count": null
    },
    {
      "cell_type": "code",
      "source": "final_data = {'PassengerId': test.PassengerId, 'Survived': y_hat_rf}\nsubmission = pd.DataFrame(data=final_data)\nfinal_data_2 = {'PassengerId': test.PassengerId, 'Survived': y_hat_vc_hard}\nsubmission_2 = pd.DataFrame(data=final_data_2)\nfinal_data_3 = {'PassengerId': test.PassengerId, 'Survived': y_hat_vc_soft}\nsubmission_3 = pd.DataFrame(data=final_data_3)\nfinal_data_4 = {'PassengerId': test.PassengerId, 'Survived': y_hat_vc_all}\nsubmission_4 = pd.DataFrame(data=final_data_4)\nfinal_data_5 = {'PassengerId': test.PassengerId, 'Survived': y_hat_vc_xgb}\nsubmission_5 = pd.DataFrame(data=final_data_5)\nfinal_data_comp = {'PassengerId': test.PassengerId, 'Survived_vc_hard': y_hat_vc_hard,'Survived_rf': y_hat_rf,'Survived_vc_soft':y_hat_vc_soft,'Survived_vc_all' : y_hat_vc_all,  'Survived_vc_xgb' : y_hat_vc_xgb}\ncomparison = pd.DataFrame(data=final_data_comp)\n",
      "metadata": {
        "trusted": true
      },
      "outputs": [],
      "execution_count": null
    },
    {
      "cell_type": "code",
      "source": "#uses to track differences between outputs \ncomparison['difference_rf_vc_hard'] = comparison.apply(lambda x: 1 if x.Survived_vc_hard != x.Survived_rf else 0, axis =1)\ncomparison['difference_soft_hard'] = comparison.apply(lambda x: 1 if x.Survived_vc_hard != x.Survived_vc_soft else 0, axis =1)\ncomparison['difference_hard_all'] = comparison.apply(lambda x: 1 if x.Survived_vc_all != x.Survived_vc_hard else 0, axis =1)",
      "metadata": {
        "trusted": true
      },
      "outputs": [],
      "execution_count": null
    },
    {
      "cell_type": "code",
      "source": "comparison.difference_hard_all.value_counts()\nsubmission.to_csv('submission_rf.csv', index =False)\nsubmission_2.to_csv('submission_vc_hard.csv',index=False)\nsubmission_3.to_csv('submission_vc_soft.csv', index=False)\nsubmission_4.to_csv('submission_vc_all.csv', index=False)\nsubmission_5.to_csv('submission_vc_xgb2.csv', index=False)",
      "metadata": {
        "trusted": true
      },
      "outputs": [],
      "execution_count": null
    },
    {
      "cell_type": "code",
      "source": "",
      "metadata": {
        "trusted": true
      },
      "outputs": [],
      "execution_count": null
    }
  ]
}